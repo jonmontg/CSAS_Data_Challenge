{
 "cells": [
  {
   "cell_type": "code",
   "execution_count": 1,
   "metadata": {},
   "outputs": [],
   "source": [
    "from lib.data_util import read_data\n",
    "from lib.documentation import build_description_table"
   ]
  },
  {
   "cell_type": "markdown",
   "metadata": {},
   "source": [
    "### Pre-process data"
   ]
  },
  {
   "cell_type": "code",
   "execution_count": 2,
   "metadata": {},
   "outputs": [],
   "source": [
    "df = read_data(\"data/statcast_pitch_swing_data_20240402_20240630.arrow\")\n",
    "build_description_table(df, \"glossary/data_definitions.md\", \"glossary/data_dictionary.md\")"
   ]
  },
  {
   "cell_type": "code",
   "execution_count": 3,
   "metadata": {},
   "outputs": [
    {
     "data": {
      "text/html": [
       "<div><style>\n",
       ".dataframe > thead > tr,\n",
       ".dataframe > tbody > tr {\n",
       "  text-align: right;\n",
       "  white-space: pre-wrap;\n",
       "}\n",
       "</style>\n",
       "<small>shape: (346_250, 84)</small><table border=\"1\" class=\"dataframe\"><thead><tr><th>pitch_type</th><th>game_date</th><th>release_speed</th><th>release_pos_x</th><th>release_pos_z</th><th>player_name</th><th>batter</th><th>pitcher</th><th>events</th><th>description</th><th>zone</th><th>des</th><th>stand</th><th>p_throws</th><th>home_team</th><th>away_team</th><th>type</th><th>hit_location</th><th>bb_type</th><th>balls</th><th>strikes</th><th>pfx_x</th><th>pfx_z</th><th>plate_x</th><th>plate_z</th><th>on_3b</th><th>on_2b</th><th>on_1b</th><th>outs_when_up</th><th>inning</th><th>inning_topbot</th><th>hc_x</th><th>hc_y</th><th>fielder_2</th><th>vx0</th><th>vy0</th><th>vz0</th><th>&hellip;</th><th>release_extension</th><th>game_pk</th><th>pitcher_1</th><th>fielder_2_1</th><th>fielder_3</th><th>fielder_4</th><th>fielder_5</th><th>fielder_6</th><th>fielder_7</th><th>fielder_8</th><th>fielder_9</th><th>release_pos_y</th><th>estimated_ba_using_speedangle</th><th>estimated_woba_using_speedangle</th><th>woba_value</th><th>woba_denom</th><th>babip_value</th><th>iso_value</th><th>launch_speed_angle</th><th>at_bat_number</th><th>pitch_number</th><th>pitch_name</th><th>home_score</th><th>away_score</th><th>bat_score</th><th>fld_score</th><th>post_away_score</th><th>post_home_score</th><th>post_bat_score</th><th>post_fld_score</th><th>if_fielding_alignment</th><th>of_fielding_alignment</th><th>spin_axis</th><th>delta_home_win_exp</th><th>delta_run_exp</th><th>bat_speed</th><th>swing_length</th></tr><tr><td>cat</td><td>date</td><td>f64</td><td>f64</td><td>f64</td><td>cat</td><td>u32</td><td>u32</td><td>cat</td><td>cat</td><td>u8</td><td>str</td><td>cat</td><td>cat</td><td>cat</td><td>cat</td><td>cat</td><td>u8</td><td>cat</td><td>u8</td><td>u8</td><td>f64</td><td>f64</td><td>f64</td><td>f64</td><td>u32</td><td>u32</td><td>u32</td><td>u8</td><td>u8</td><td>cat</td><td>f64</td><td>f64</td><td>u32</td><td>f64</td><td>f64</td><td>f64</td><td>&hellip;</td><td>f64</td><td>u32</td><td>u32</td><td>u32</td><td>u32</td><td>u32</td><td>u32</td><td>u32</td><td>u32</td><td>u32</td><td>u32</td><td>f64</td><td>f64</td><td>f64</td><td>f64</td><td>u8</td><td>u8</td><td>u8</td><td>u8</td><td>u8</td><td>u8</td><td>cat</td><td>u8</td><td>u8</td><td>u8</td><td>u8</td><td>u8</td><td>u8</td><td>u8</td><td>u8</td><td>cat</td><td>cat</td><td>u16</td><td>f64</td><td>f64</td><td>f64</td><td>f64</td></tr></thead><tbody><tr><td>&quot;FF&quot;</td><td>2024-04-02</td><td>95.0</td><td>-2.01</td><td>5.22</td><td>&quot;Rocchio, Brayan&quot;</td><td>677587</td><td>622491</td><td>&quot;single&quot;</td><td>&quot;hit_into_play&quot;</td><td>3</td><td>&quot;Brayan Rocchio singles on a po…</td><td>&quot;L&quot;</td><td>&quot;R&quot;</td><td>&quot;SEA&quot;</td><td>&quot;CLE&quot;</td><td>&quot;X&quot;</td><td>7</td><td>&quot;popup&quot;</td><td>0</td><td>2</td><td>-0.85</td><td>1.2</td><td>0.69</td><td>3.18</td><td>null</td><td>null</td><td>666310</td><td>2</td><td>6</td><td>&quot;Top&quot;</td><td>87.46</td><td>125.97</td><td>663728</td><td>8.809589</td><td>-138.184461</td><td>-2.337745</td><td>&hellip;</td><td>5.4</td><td>745273</td><td>622491</td><td>663728</td><td>664034</td><td>593871</td><td>668942</td><td>641487</td><td>686527</td><td>677594</td><td>571745</td><td>55.11</td><td>0.654</td><td>0.59</td><td>0.9</td><td>1</td><td>1</td><td>0</td><td>4</td><td>46</td><td>3</td><td>&quot;4-Seam Fastball&quot;</td><td>0</td><td>4</td><td>4</td><td>0</td><td>4</td><td>0</td><td>4</td><td>0</td><td>&quot;Infield shade&quot;</td><td>&quot;Standard&quot;</td><td>239</td><td>-0.006</td><td>0.388</td><td>null</td><td>null</td></tr><tr><td>&quot;CH&quot;</td><td>2024-04-02</td><td>88.5</td><td>-2.09</td><td>4.95</td><td>&quot;Rocchio, Brayan&quot;</td><td>677587</td><td>622491</td><td>&quot;&quot;</td><td>&quot;foul&quot;</td><td>4</td><td>&quot;Brayan Rocchio singles on a po…</td><td>&quot;L&quot;</td><td>&quot;R&quot;</td><td>&quot;SEA&quot;</td><td>&quot;CLE&quot;</td><td>&quot;S&quot;</td><td>null</td><td>&quot;&quot;</td><td>0</td><td>1</td><td>-1.4</td><td>0.07</td><td>-0.3</td><td>2.29</td><td>null</td><td>null</td><td>666310</td><td>2</td><td>6</td><td>&quot;Top&quot;</td><td>null</td><td>null</td><td>663728</td><td>7.152185</td><td>-128.763652</td><td>-0.628007</td><td>&hellip;</td><td>5.4</td><td>745273</td><td>622491</td><td>663728</td><td>664034</td><td>593871</td><td>668942</td><td>641487</td><td>686527</td><td>677594</td><td>571745</td><td>55.06</td><td>null</td><td>null</td><td>null</td><td>null</td><td>null</td><td>null</td><td>null</td><td>46</td><td>2</td><td>&quot;Changeup&quot;</td><td>0</td><td>4</td><td>4</td><td>0</td><td>4</td><td>0</td><td>4</td><td>0</td><td>&quot;Standard&quot;</td><td>&quot;Standard&quot;</td><td>253</td><td>0.0</td><td>-0.045</td><td>null</td><td>null</td></tr><tr><td>&quot;SI&quot;</td><td>2024-04-02</td><td>95.0</td><td>-2.02</td><td>5.12</td><td>&quot;Rocchio, Brayan&quot;</td><td>677587</td><td>622491</td><td>&quot;&quot;</td><td>&quot;called_strike&quot;</td><td>2</td><td>&quot;Brayan Rocchio singles on a po…</td><td>&quot;L&quot;</td><td>&quot;R&quot;</td><td>&quot;SEA&quot;</td><td>&quot;CLE&quot;</td><td>&quot;S&quot;</td><td>null</td><td>&quot;&quot;</td><td>0</td><td>0</td><td>-1.48</td><td>0.15</td><td>-0.14</td><td>3.15</td><td>null</td><td>null</td><td>666310</td><td>2</td><td>6</td><td>&quot;Top&quot;</td><td>null</td><td>null</td><td>663728</td><td>8.099205</td><td>-138.195334</td><td>0.123694</td><td>&hellip;</td><td>5.5</td><td>745273</td><td>622491</td><td>663728</td><td>664034</td><td>593871</td><td>668942</td><td>641487</td><td>686527</td><td>677594</td><td>571745</td><td>55.04</td><td>null</td><td>null</td><td>null</td><td>null</td><td>null</td><td>null</td><td>null</td><td>46</td><td>1</td><td>&quot;Sinker&quot;</td><td>0</td><td>4</td><td>4</td><td>0</td><td>4</td><td>0</td><td>4</td><td>0</td><td>&quot;Standard&quot;</td><td>&quot;Standard&quot;</td><td>238</td><td>0.0</td><td>-0.042</td><td>null</td><td>null</td></tr><tr><td>&quot;SI&quot;</td><td>2024-04-02</td><td>90.7</td><td>-1.26</td><td>5.13</td><td>&quot;Ohtani, Shohei&quot;</td><td>660271</td><td>657277</td><td>&quot;walk&quot;</td><td>&quot;ball&quot;</td><td>11</td><td>&quot;Shohei Ohtani walks.   Enrique…</td><td>&quot;L&quot;</td><td>&quot;R&quot;</td><td>&quot;LAD&quot;</td><td>&quot;SF&quot;</td><td>&quot;B&quot;</td><td>null</td><td>&quot;&quot;</td><td>3</td><td>0</td><td>-1.45</td><td>0.09</td><td>-2.25</td><td>3.29</td><td>null</td><td>null</td><td>571771</td><td>2</td><td>4</td><td>&quot;Bot&quot;</td><td>null</td><td>null</td><td>672275</td><td>0.6209</td><td>-132.024381</td><td>1.22685</td><td>&hellip;</td><td>6.8</td><td>746169</td><td>657277</td><td>672275</td><td>527038</td><td>642731</td><td>656305</td><td>605113</td><td>624424</td><td>808982</td><td>573262</td><td>53.68</td><td>null</td><td>0.691353</td><td>0.7</td><td>1</td><td>0</td><td>0</td><td>null</td><td>37</td><td>4</td><td>&quot;Sinker&quot;</td><td>5</td><td>2</td><td>5</td><td>2</td><td>2</td><td>5</td><td>5</td><td>2</td><td>&quot;Infield shade&quot;</td><td>&quot;Standard&quot;</td><td>234</td><td>0.009</td><td>0.082</td><td>null</td><td>null</td></tr><tr><td>&quot;FF&quot;</td><td>2024-04-02</td><td>95.4</td><td>-1.95</td><td>5.12</td><td>&quot;Hedges, Austin&quot;</td><td>595978</td><td>622491</td><td>&quot;strikeout&quot;</td><td>&quot;foul_tip&quot;</td><td>5</td><td>&quot;Austin Hedges strikes out on a…</td><td>&quot;R&quot;</td><td>&quot;R&quot;</td><td>&quot;SEA&quot;</td><td>&quot;CLE&quot;</td><td>&quot;S&quot;</td><td>2</td><td>&quot;&quot;</td><td>1</td><td>2</td><td>-1.08</td><td>0.9</td><td>-0.04</td><td>2.52</td><td>null</td><td>null</td><td>666310</td><td>1</td><td>6</td><td>&quot;Top&quot;</td><td>null</td><td>null</td><td>663728</td><td>7.315465</td><td>-138.777335</td><td>-3.229775</td><td>&hellip;</td><td>5.5</td><td>745273</td><td>622491</td><td>663728</td><td>664034</td><td>593871</td><td>668942</td><td>641487</td><td>686527</td><td>677594</td><td>571745</td><td>55.04</td><td>null</td><td>0.0</td><td>0.0</td><td>1</td><td>0</td><td>0</td><td>null</td><td>45</td><td>4</td><td>&quot;4-Seam Fastball&quot;</td><td>0</td><td>4</td><td>4</td><td>0</td><td>4</td><td>0</td><td>4</td><td>0</td><td>&quot;Standard&quot;</td><td>&quot;Standard&quot;</td><td>238</td><td>0.008</td><td>-0.215</td><td>null</td><td>null</td></tr><tr><td>&hellip;</td><td>&hellip;</td><td>&hellip;</td><td>&hellip;</td><td>&hellip;</td><td>&hellip;</td><td>&hellip;</td><td>&hellip;</td><td>&hellip;</td><td>&hellip;</td><td>&hellip;</td><td>&hellip;</td><td>&hellip;</td><td>&hellip;</td><td>&hellip;</td><td>&hellip;</td><td>&hellip;</td><td>&hellip;</td><td>&hellip;</td><td>&hellip;</td><td>&hellip;</td><td>&hellip;</td><td>&hellip;</td><td>&hellip;</td><td>&hellip;</td><td>&hellip;</td><td>&hellip;</td><td>&hellip;</td><td>&hellip;</td><td>&hellip;</td><td>&hellip;</td><td>&hellip;</td><td>&hellip;</td><td>&hellip;</td><td>&hellip;</td><td>&hellip;</td><td>&hellip;</td><td>&hellip;</td><td>&hellip;</td><td>&hellip;</td><td>&hellip;</td><td>&hellip;</td><td>&hellip;</td><td>&hellip;</td><td>&hellip;</td><td>&hellip;</td><td>&hellip;</td><td>&hellip;</td><td>&hellip;</td><td>&hellip;</td><td>&hellip;</td><td>&hellip;</td><td>&hellip;</td><td>&hellip;</td><td>&hellip;</td><td>&hellip;</td><td>&hellip;</td><td>&hellip;</td><td>&hellip;</td><td>&hellip;</td><td>&hellip;</td><td>&hellip;</td><td>&hellip;</td><td>&hellip;</td><td>&hellip;</td><td>&hellip;</td><td>&hellip;</td><td>&hellip;</td><td>&hellip;</td><td>&hellip;</td><td>&hellip;</td><td>&hellip;</td><td>&hellip;</td><td>&hellip;</td><td>&hellip;</td></tr><tr><td>&quot;SL&quot;</td><td>2024-06-30</td><td>85.9</td><td>1.63</td><td>5.68</td><td>&quot;Cave, Jake&quot;</td><td>595909</td><td>694363</td><td>&quot;&quot;</td><td>&quot;called_strike&quot;</td><td>4</td><td>&quot;Jake Cave grounds out, second …</td><td>&quot;L&quot;</td><td>&quot;L&quot;</td><td>&quot;CWS&quot;</td><td>&quot;COL&quot;</td><td>&quot;S&quot;</td><td>null</td><td>&quot;&quot;</td><td>0</td><td>0</td><td>-0.14</td><td>0.65</td><td>-0.46</td><td>2.43</td><td>null</td><td>669911</td><td>663898</td><td>2</td><td>10</td><td>&quot;Top&quot;</td><td>null</td><td>null</td><td>686676</td><td>-4.672908</td><td>-125.088173</td><td>-2.814346</td><td>&hellip;</td><td>6.4</td><td>746779</td><td>694363</td><td>686676</td><td>683734</td><td>670032</td><td>672820</td><td>657557</td><td>667452</td><td>673357</td><td>502054</td><td>54.11</td><td>null</td><td>null</td><td>null</td><td>null</td><td>null</td><td>null</td><td>null</td><td>73</td><td>1</td><td>&quot;Slider&quot;</td><td>2</td><td>3</td><td>3</td><td>2</td><td>3</td><td>2</td><td>3</td><td>2</td><td>&quot;Standard&quot;</td><td>&quot;Standard&quot;</td><td>144</td><td>0.0</td><td>-0.067</td><td>null</td><td>null</td></tr><tr><td>&quot;SL&quot;</td><td>2024-06-30</td><td>89.9</td><td>-1.12</td><td>6.41</td><td>&quot;Jiménez, Eloy&quot;</td><td>650391</td><td>641755</td><td>&quot;&quot;</td><td>&quot;blocked_ball&quot;</td><td>14</td><td>&quot;Eloy Jiménez grounds out, thir…</td><td>&quot;R&quot;</td><td>&quot;R&quot;</td><td>&quot;CWS&quot;</td><td>&quot;COL&quot;</td><td>&quot;B&quot;</td><td>null</td><td>&quot;&quot;</td><td>0</td><td>0</td><td>-0.49</td><td>0.6</td><td>0.17</td><td>0.47</td><td>null</td><td>673357</td><td>null</td><td>0</td><td>11</td><td>&quot;Bot&quot;</td><td>null</td><td>null</td><td>696100</td><td>4.187014</td><td>-130.612959</td><td>-9.928601</td><td>&hellip;</td><td>5.7</td><td>746779</td><td>641755</td><td>696100</td><td>669911</td><td>663898</td><td>641857</td><td>678662</td><td>666134</td><td>686668</td><td>595909</td><td>54.79</td><td>null</td><td>null</td><td>null</td><td>null</td><td>null</td><td>null</td><td>null</td><td>82</td><td>1</td><td>&quot;Slider&quot;</td><td>3</td><td>3</td><td>3</td><td>3</td><td>3</td><td>3</td><td>3</td><td>3</td><td>&quot;Standard&quot;</td><td>&quot;Standard&quot;</td><td>200</td><td>0.0</td><td>0.057</td><td>null</td><td>null</td></tr><tr><td>&quot;CU&quot;</td><td>2024-06-30</td><td>73.7</td><td>-2.44</td><td>5.8</td><td>&quot;Rice, Ben&quot;</td><td>700250</td><td>670102</td><td>&quot;&quot;</td><td>&quot;called_strike&quot;</td><td>6</td><td>&quot;Ben Rice flies out to center f…</td><td>&quot;L&quot;</td><td>&quot;R&quot;</td><td>&quot;TOR&quot;</td><td>&quot;NYY&quot;</td><td>&quot;S&quot;</td><td>null</td><td>&quot;&quot;</td><td>0</td><td>0</td><td>1.09</td><td>-0.86</td><td>0.51</td><td>2.51</td><td>null</td><td>null</td><td>null</td><td>0</td><td>9</td><td>&quot;Top&quot;</td><td>null</td><td>null</td><td>643376</td><td>4.105765</td><td>-107.143112</td><td>2.260969</td><td>&hellip;</td><td>6.6</td><td>744916</td><td>670102</td><td>643376</td><td>687462</td><td>676914</td><td>676391</td><td>643396</td><td>662139</td><td>595281</td><td>543807</td><td>53.88</td><td>null</td><td>null</td><td>null</td><td>null</td><td>null</td><td>null</td><td>null</td><td>72</td><td>1</td><td>&quot;Curveball&quot;</td><td>1</td><td>8</td><td>8</td><td>1</td><td>8</td><td>1</td><td>8</td><td>1</td><td>&quot;Infield shade&quot;</td><td>&quot;Standard&quot;</td><td>47</td><td>0.0</td><td>-0.033</td><td>null</td><td>null</td></tr><tr><td>&quot;FF&quot;</td><td>2024-06-30</td><td>94.1</td><td>2.97</td><td>5.97</td><td>&quot;Merrifield, Whit&quot;</td><td>593160</td><td>677053</td><td>&quot;&quot;</td><td>&quot;ball&quot;</td><td>12</td><td>&quot;Whit Merrifield walks.&quot;</td><td>&quot;R&quot;</td><td>&quot;L&quot;</td><td>&quot;PHI&quot;</td><td>&quot;MIA&quot;</td><td>&quot;B&quot;</td><td>null</td><td>&quot;&quot;</td><td>0</td><td>0</td><td>0.99</td><td>1.45</td><td>1.12</td><td>3.35</td><td>null</td><td>null</td><td>null</td><td>0</td><td>7</td><td>&quot;Bot&quot;</td><td>null</td><td>null</td><td>645305</td><td>-7.069271</td><td>-136.790988</td><td>-4.343408</td><td>&hellip;</td><td>6.8</td><td>745555</td><td>677053</td><td>645305</td><td>669394</td><td>672640</td><td>656896</td><td>641313</td><td>650559</td><td>665862</td><td>667472</td><td>53.7</td><td>null</td><td>null</td><td>null</td><td>null</td><td>null</td><td>null</td><td>null</td><td>70</td><td>1</td><td>&quot;4-Seam Fastball&quot;</td><td>5</td><td>6</td><td>5</td><td>6</td><td>6</td><td>5</td><td>5</td><td>6</td><td>&quot;Standard&quot;</td><td>&quot;Standard&quot;</td><td>139</td><td>0.0</td><td>0.032</td><td>null</td><td>null</td></tr><tr><td>&quot;FF&quot;</td><td>2024-06-30</td><td>99.8</td><td>-0.4</td><td>6.01</td><td>&quot;De La Cruz, Elly&quot;</td><td>682829</td><td>664854</td><td>&quot;&quot;</td><td>&quot;swinging_strike&quot;</td><td>1</td><td>&quot;Elly De La Cruz strikes out sw…</td><td>&quot;L&quot;</td><td>&quot;R&quot;</td><td>&quot;STL&quot;</td><td>&quot;CIN&quot;</td><td>&quot;S&quot;</td><td>null</td><td>&quot;&quot;</td><td>0</td><td>0</td><td>-0.53</td><td>1.56</td><td>-0.51</td><td>3.69</td><td>null</td><td>null</td><td>null</td><td>0</td><td>9</td><td>&quot;Top&quot;</td><td>null</td><td>null</td><td>686780</td><td>0.95459</td><td>-145.284059</td><td>-4.620361</td><td>&hellip;</td><td>6.4</td><td>745154</td><td>664854</td><td>686780</td><td>502671</td><td>669357</td><td>571448</td><td>691026</td><td>680977</td><td>672279</td><td>666185</td><td>54.11</td><td>null</td><td>null</td><td>null</td><td>null</td><td>null</td><td>null</td><td>null</td><td>64</td><td>1</td><td>&quot;4-Seam Fastball&quot;</td><td>2</td><td>0</td><td>0</td><td>2</td><td>0</td><td>2</td><td>0</td><td>2</td><td>&quot;Infield shade&quot;</td><td>&quot;Standard&quot;</td><td>206</td><td>0.0</td><td>-0.033</td><td>75.727092</td><td>7.42479</td></tr></tbody></table></div>"
      ],
      "text/plain": [
       "shape: (346_250, 84)\n",
       "┌───────────┬───────────┬───────────┬───────────┬───┬───────────┬───────────┬───────────┬──────────┐\n",
       "│ pitch_typ ┆ game_date ┆ release_s ┆ release_p ┆ … ┆ delta_hom ┆ delta_run ┆ bat_speed ┆ swing_le │\n",
       "│ e         ┆ ---       ┆ peed      ┆ os_x      ┆   ┆ e_win_exp ┆ _exp      ┆ ---       ┆ ngth     │\n",
       "│ ---       ┆ date      ┆ ---       ┆ ---       ┆   ┆ ---       ┆ ---       ┆ f64       ┆ ---      │\n",
       "│ cat       ┆           ┆ f64       ┆ f64       ┆   ┆ f64       ┆ f64       ┆           ┆ f64      │\n",
       "╞═══════════╪═══════════╪═══════════╪═══════════╪═══╪═══════════╪═══════════╪═══════════╪══════════╡\n",
       "│ FF        ┆ 2024-04-0 ┆ 95.0      ┆ -2.01     ┆ … ┆ -0.006    ┆ 0.388     ┆ null      ┆ null     │\n",
       "│           ┆ 2         ┆           ┆           ┆   ┆           ┆           ┆           ┆          │\n",
       "│ CH        ┆ 2024-04-0 ┆ 88.5      ┆ -2.09     ┆ … ┆ 0.0       ┆ -0.045    ┆ null      ┆ null     │\n",
       "│           ┆ 2         ┆           ┆           ┆   ┆           ┆           ┆           ┆          │\n",
       "│ SI        ┆ 2024-04-0 ┆ 95.0      ┆ -2.02     ┆ … ┆ 0.0       ┆ -0.042    ┆ null      ┆ null     │\n",
       "│           ┆ 2         ┆           ┆           ┆   ┆           ┆           ┆           ┆          │\n",
       "│ SI        ┆ 2024-04-0 ┆ 90.7      ┆ -1.26     ┆ … ┆ 0.009     ┆ 0.082     ┆ null      ┆ null     │\n",
       "│           ┆ 2         ┆           ┆           ┆   ┆           ┆           ┆           ┆          │\n",
       "│ FF        ┆ 2024-04-0 ┆ 95.4      ┆ -1.95     ┆ … ┆ 0.008     ┆ -0.215    ┆ null      ┆ null     │\n",
       "│           ┆ 2         ┆           ┆           ┆   ┆           ┆           ┆           ┆          │\n",
       "│ …         ┆ …         ┆ …         ┆ …         ┆ … ┆ …         ┆ …         ┆ …         ┆ …        │\n",
       "│ SL        ┆ 2024-06-3 ┆ 85.9      ┆ 1.63      ┆ … ┆ 0.0       ┆ -0.067    ┆ null      ┆ null     │\n",
       "│           ┆ 0         ┆           ┆           ┆   ┆           ┆           ┆           ┆          │\n",
       "│ SL        ┆ 2024-06-3 ┆ 89.9      ┆ -1.12     ┆ … ┆ 0.0       ┆ 0.057     ┆ null      ┆ null     │\n",
       "│           ┆ 0         ┆           ┆           ┆   ┆           ┆           ┆           ┆          │\n",
       "│ CU        ┆ 2024-06-3 ┆ 73.7      ┆ -2.44     ┆ … ┆ 0.0       ┆ -0.033    ┆ null      ┆ null     │\n",
       "│           ┆ 0         ┆           ┆           ┆   ┆           ┆           ┆           ┆          │\n",
       "│ FF        ┆ 2024-06-3 ┆ 94.1      ┆ 2.97      ┆ … ┆ 0.0       ┆ 0.032     ┆ null      ┆ null     │\n",
       "│           ┆ 0         ┆           ┆           ┆   ┆           ┆           ┆           ┆          │\n",
       "│ FF        ┆ 2024-06-3 ┆ 99.8      ┆ -0.4      ┆ … ┆ 0.0       ┆ -0.033    ┆ 75.727092 ┆ 7.42479  │\n",
       "│           ┆ 0         ┆           ┆           ┆   ┆           ┆           ┆           ┆          │\n",
       "└───────────┴───────────┴───────────┴───────────┴───┴───────────┴───────────┴───────────┴──────────┘"
      ]
     },
     "execution_count": 3,
     "metadata": {},
     "output_type": "execute_result"
    }
   ],
   "source": [
    "df"
   ]
  }
 ],
 "metadata": {
  "kernelspec": {
   "display_name": "venv",
   "language": "python",
   "name": "python3"
  },
  "language_info": {
   "codemirror_mode": {
    "name": "ipython",
    "version": 3
   },
   "file_extension": ".py",
   "mimetype": "text/x-python",
   "name": "python",
   "nbconvert_exporter": "python",
   "pygments_lexer": "ipython3",
   "version": "3.11.6"
  }
 },
 "nbformat": 4,
 "nbformat_minor": 2
}
