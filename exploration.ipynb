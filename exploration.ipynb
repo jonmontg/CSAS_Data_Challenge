{
 "cells": [
  {
   "cell_type": "code",
   "execution_count": 1,
   "metadata": {},
   "outputs": [],
   "source": [
    "from lib.data_util import *\n",
    "from lib.documentation import *\n",
    "from lib.data_models import *\n",
    "import matplotlib.pyplot as plt"
   ]
  },
  {
   "cell_type": "markdown",
   "metadata": {},
   "source": [
    "### Pre-process data"
   ]
  },
  {
   "cell_type": "code",
   "execution_count": null,
   "metadata": {},
   "outputs": [
    {
     "data": {
      "text/plain": [
       "polars.config.Config"
      ]
     },
     "execution_count": 2,
     "metadata": {},
     "output_type": "execute_result"
    }
   ],
   "source": [
    "df = read_data(\"data/statcast_pitch_swing_data_20240402_20240630.arrow\")\n",
    "build_description_table(df, \"glossary/data_definitions.md\", \"glossary/data_dictionary.md\")"
   ]
  },
  {
   "cell_type": "code",
   "execution_count": 3,
   "metadata": {},
   "outputs": [],
   "source": [
    "pitcher_tree = tree(df, \"pitcher\", Pitcher)\n",
    "batter_tree = tree(df, \"batter\", Batter)"
   ]
  },
  {
   "cell_type": "code",
   "execution_count": null,
   "metadata": {},
   "outputs": [],
   "source": [
    "plt.figure(figsize=(100, 15))\n",
    "mean_bat_speed = df.filter(pl.col(\"bat_speed\").is_not_null()).group_by(\"batter\").agg(pl.col(\"bat_speed\").mean().alias(\"mean_bat_speed\")).sort(\"mean_bat_speed\")\n",
    "plt.bar(mean_bat_speed[\"batter\"].cast(pl.String), mean_bat_speed[\"mean_bat_speed\"])\n",
    "plt.xticks(rotation=90)\n",
    "plt.savefig(\"visualizations/mean_bat_speed.png\")\n"
   ]
  }
 ],
 "metadata": {
  "kernelspec": {
   "display_name": "venv",
   "language": "python",
   "name": "python3"
  },
  "language_info": {
   "codemirror_mode": {
    "name": "ipython",
    "version": 3
   },
   "file_extension": ".py",
   "mimetype": "text/x-python",
   "name": "python",
   "nbconvert_exporter": "python",
   "pygments_lexer": "ipython3",
   "version": "3.11.6"
  }
 },
 "nbformat": 4,
 "nbformat_minor": 2
}
