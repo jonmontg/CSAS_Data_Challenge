{
 "cells": [
  {
   "cell_type": "code",
   "execution_count": 1,
   "metadata": {},
   "outputs": [],
   "source": [
    "from lib.data_util import *\n",
    "from lib.documentation import *\n",
    "from lib.data_models import *\n",
    "from lib.predictions import Predictions\n",
    "from lib.visualizations import Visualizations\n",
    "import polars as pl"
   ]
  },
  {
   "cell_type": "markdown",
   "metadata": {},
   "source": [
    "### Pre-process data"
   ]
  },
  {
   "cell_type": "code",
   "execution_count": 2,
   "metadata": {},
   "outputs": [],
   "source": [
    "df = read_data(\"data/statcast_pitch_swing_data_20240402_20240630.arrow\")\n",
    "build_description_table(df, \"glossary/data_definitions.md\", \"glossary/data_dictionary.md\", build_plots=False)"
   ]
  },
  {
   "cell_type": "code",
   "execution_count": 3,
   "metadata": {},
   "outputs": [],
   "source": [
    "pitcher_lookup = player_lookup(df, \"pitcher\", Pitcher)\n",
    "batter_lookup = player_lookup(df, \"batter\", Batter)"
   ]
  },
  {
   "cell_type": "markdown",
   "metadata": {},
   "source": [
    "There does not appear to be a strong relationship between the percentage of balls that a player swings at, and the percentage of balls that a player hits into play."
   ]
  },
  {
   "cell_type": "markdown",
   "metadata": {},
   "source": [
    "### What does a batter's swing profile look like?"
   ]
  },
  {
   "cell_type": "markdown",
   "metadata": {},
   "source": [
    "#### Drop the batters with very low swing counts"
   ]
  },
  {
   "cell_type": "code",
   "execution_count": 7,
   "metadata": {},
   "outputs": [
    {
     "data": {
      "text/html": [
       "<div><style>\n",
       ".dataframe > thead > tr,\n",
       ".dataframe > tbody > tr {\n",
       "  text-align: right;\n",
       "  white-space: pre-wrap;\n",
       "}\n",
       "</style>\n",
       "<small>shape: (502, 26)</small><table border=\"1\" class=\"dataframe\"><thead><tr><th>batter</th><th>bat_speed_min</th><th>bat_speed_max</th><th>bat_speed_median</th><th>swing_length_min</th><th>swing_length_max</th><th>swing_length_median</th><th>swing_count</th><th>hit_into_play_percentage</th><th>hit_into_play_for_FF</th><th>hit_into_play_for_CH</th><th>hit_into_play_for_SI</th><th>hit_into_play_for_KC</th><th>hit_into_play_for_SL</th><th>hit_into_play_for_ST</th><th>hit_into_play_for_FC</th><th>hit_into_play_for_CU</th><th>hit_into_play_for_SV</th><th>hit_into_play_for_FS</th><th>hit_into_play_for_PO</th><th>hit_into_play_for_FO</th><th>hit_into_play_for_FA</th><th>hit_into_play_for_KN</th><th>hit_into_play_for_EP</th><th>hit_into_play_for_CS</th><th>hit_into_play_for_</th></tr><tr><td>cat</td><td>f64</td><td>f64</td><td>f64</td><td>f64</td><td>f64</td><td>f64</td><td>u32</td><td>f64</td><td>f64</td><td>f64</td><td>f64</td><td>f64</td><td>f64</td><td>f64</td><td>f64</td><td>f64</td><td>f64</td><td>f64</td><td>f64</td><td>f64</td><td>f64</td><td>f64</td><td>f64</td><td>f64</td><td>f64</td></tr></thead><tbody><tr><td>&quot;514888&quot;</td><td>6.678485</td><td>83.816981</td><td>68.493427</td><td>2.19618</td><td>8.96172</td><td>7.90381</td><td>580</td><td>38.62069</td><td>42.222222</td><td>32.5</td><td>57.446809</td><td>25.0</td><td>37.226277</td><td>21.621622</td><td>36.666667</td><td>28.571429</td><td>66.666667</td><td>14.285714</td><td>NaN</td><td>NaN</td><td>NaN</td><td>NaN</td><td>NaN</td><td>NaN</td><td>NaN</td></tr><tr><td>&quot;592273&quot;</td><td>32.234789</td><td>84.34839</td><td>72.095169</td><td>5.08812</td><td>8.9987</td><td>7.29083</td><td>186</td><td>40.322581</td><td>25.0</td><td>33.333333</td><td>55.813953</td><td>NaN</td><td>50.0</td><td>50.0</td><td>33.333333</td><td>45.454545</td><td>NaN</td><td>33.333333</td><td>NaN</td><td>NaN</td><td>NaN</td><td>NaN</td><td>NaN</td><td>NaN</td><td>NaN</td></tr><tr><td>&quot;663967&quot;</td><td>6.370414</td><td>73.822905</td><td>67.737487</td><td>0.83355</td><td>8.26926</td><td>7.26559</td><td>33</td><td>39.393939</td><td>50.0</td><td>75.0</td><td>50.0</td><td>NaN</td><td>14.285714</td><td>NaN</td><td>20.0</td><td>33.333333</td><td>NaN</td><td>50.0</td><td>NaN</td><td>NaN</td><td>NaN</td><td>NaN</td><td>NaN</td><td>NaN</td><td>NaN</td></tr><tr><td>&quot;677587&quot;</td><td>3.926271</td><td>82.977541</td><td>69.0511</td><td>0.47298</td><td>8.74293</td><td>7.16779</td><td>411</td><td>36.009732</td><td>28.346457</td><td>40.0</td><td>40.384615</td><td>50.0</td><td>35.714286</td><td>27.777778</td><td>41.304348</td><td>34.285714</td><td>NaN</td><td>56.25</td><td>NaN</td><td>NaN</td><td>NaN</td><td>NaN</td><td>NaN</td><td>NaN</td><td>NaN</td></tr><tr><td>&quot;693049&quot;</td><td>38.253033</td><td>81.969048</td><td>74.519835</td><td>4.36617</td><td>9.02815</td><td>7.35279</td><td>74</td><td>31.081081</td><td>16.666667</td><td>66.666667</td><td>14.285714</td><td>0.0</td><td>17.647059</td><td>0.0</td><td>50.0</td><td>60.0</td><td>NaN</td><td>42.857143</td><td>NaN</td><td>NaN</td><td>NaN</td><td>NaN</td><td>NaN</td><td>NaN</td><td>NaN</td></tr><tr><td>&hellip;</td><td>&hellip;</td><td>&hellip;</td><td>&hellip;</td><td>&hellip;</td><td>&hellip;</td><td>&hellip;</td><td>&hellip;</td><td>&hellip;</td><td>&hellip;</td><td>&hellip;</td><td>&hellip;</td><td>&hellip;</td><td>&hellip;</td><td>&hellip;</td><td>&hellip;</td><td>&hellip;</td><td>&hellip;</td><td>&hellip;</td><td>&hellip;</td><td>&hellip;</td><td>&hellip;</td><td>&hellip;</td><td>&hellip;</td><td>&hellip;</td><td>&hellip;</td></tr><tr><td>&quot;624512&quot;</td><td>11.462052</td><td>79.437998</td><td>68.390135</td><td>1.79475</td><td>9.85368</td><td>8.01341</td><td>207</td><td>35.2657</td><td>28.169014</td><td>35.714286</td><td>52.380952</td><td>33.333333</td><td>29.411765</td><td>57.142857</td><td>45.0</td><td>36.363636</td><td>NaN</td><td>38.461538</td><td>NaN</td><td>NaN</td><td>NaN</td><td>0.0</td><td>NaN</td><td>NaN</td><td>NaN</td></tr><tr><td>&quot;608596&quot;</td><td>62.97311</td><td>81.050145</td><td>72.080217</td><td>5.99858</td><td>9.30278</td><td>7.84834</td><td>51</td><td>27.45098</td><td>11.111111</td><td>0.0</td><td>25.0</td><td>50.0</td><td>75.0</td><td>60.0</td><td>75.0</td><td>0.0</td><td>NaN</td><td>NaN</td><td>NaN</td><td>NaN</td><td>0.0</td><td>NaN</td><td>NaN</td><td>NaN</td><td>NaN</td></tr><tr><td>&quot;650559&quot;</td><td>31.652637</td><td>82.567982</td><td>71.978135</td><td>3.9136</td><td>9.81733</td><td>7.682045</td><td>650</td><td>33.230769</td><td>27.638191</td><td>42.465753</td><td>40.206186</td><td>33.333333</td><td>32.55814</td><td>24.444444</td><td>38.461538</td><td>37.037037</td><td>0.0</td><td>29.411765</td><td>NaN</td><td>NaN</td><td>NaN</td><td>33.333333</td><td>NaN</td><td>NaN</td><td>NaN</td></tr><tr><td>&quot;669208&quot;</td><td>6.388012</td><td>77.640917</td><td>70.051808</td><td>0.97914</td><td>8.28536</td><td>6.60969</td><td>103</td><td>33.009709</td><td>23.529412</td><td>14.285714</td><td>41.176471</td><td>0.0</td><td>52.173913</td><td>25.0</td><td>40.0</td><td>100.0</td><td>NaN</td><td>NaN</td><td>NaN</td><td>NaN</td><td>NaN</td><td>NaN</td><td>NaN</td><td>NaN</td><td>NaN</td></tr><tr><td>&quot;675961&quot;</td><td>2.669233</td><td>76.7079</td><td>69.85951</td><td>0.46038</td><td>8.72047</td><td>6.94061</td><td>97</td><td>40.206186</td><td>55.172414</td><td>50.0</td><td>46.428571</td><td>0.0</td><td>25.0</td><td>25.0</td><td>0.0</td><td>33.333333</td><td>NaN</td><td>16.666667</td><td>NaN</td><td>NaN</td><td>NaN</td><td>NaN</td><td>NaN</td><td>NaN</td><td>NaN</td></tr></tbody></table></div>"
      ],
      "text/plain": [
       "shape: (502, 26)\n",
       "┌────────┬────────────┬────────────┬───────────┬───┬───────────┬───────────┬───────────┬───────────┐\n",
       "│ batter ┆ bat_speed_ ┆ bat_speed_ ┆ bat_speed ┆ … ┆ hit_into_ ┆ hit_into_ ┆ hit_into_ ┆ hit_into_ │\n",
       "│ ---    ┆ min        ┆ max        ┆ _median   ┆   ┆ play_for_ ┆ play_for_ ┆ play_for_ ┆ play_for_ │\n",
       "│ cat    ┆ ---        ┆ ---        ┆ ---       ┆   ┆ KN        ┆ EP        ┆ CS        ┆ ---       │\n",
       "│        ┆ f64        ┆ f64        ┆ f64       ┆   ┆ ---       ┆ ---       ┆ ---       ┆ f64       │\n",
       "│        ┆            ┆            ┆           ┆   ┆ f64       ┆ f64       ┆ f64       ┆           │\n",
       "╞════════╪════════════╪════════════╪═══════════╪═══╪═══════════╪═══════════╪═══════════╪═══════════╡\n",
       "│ 514888 ┆ 6.678485   ┆ 83.816981  ┆ 68.493427 ┆ … ┆ NaN       ┆ NaN       ┆ NaN       ┆ NaN       │\n",
       "│ 592273 ┆ 32.234789  ┆ 84.34839   ┆ 72.095169 ┆ … ┆ NaN       ┆ NaN       ┆ NaN       ┆ NaN       │\n",
       "│ 663967 ┆ 6.370414   ┆ 73.822905  ┆ 67.737487 ┆ … ┆ NaN       ┆ NaN       ┆ NaN       ┆ NaN       │\n",
       "│ 677587 ┆ 3.926271   ┆ 82.977541  ┆ 69.0511   ┆ … ┆ NaN       ┆ NaN       ┆ NaN       ┆ NaN       │\n",
       "│ 693049 ┆ 38.253033  ┆ 81.969048  ┆ 74.519835 ┆ … ┆ NaN       ┆ NaN       ┆ NaN       ┆ NaN       │\n",
       "│ …      ┆ …          ┆ …          ┆ …         ┆ … ┆ …         ┆ …         ┆ …         ┆ …         │\n",
       "│ 624512 ┆ 11.462052  ┆ 79.437998  ┆ 68.390135 ┆ … ┆ 0.0       ┆ NaN       ┆ NaN       ┆ NaN       │\n",
       "│ 608596 ┆ 62.97311   ┆ 81.050145  ┆ 72.080217 ┆ … ┆ NaN       ┆ NaN       ┆ NaN       ┆ NaN       │\n",
       "│ 650559 ┆ 31.652637  ┆ 82.567982  ┆ 71.978135 ┆ … ┆ 33.333333 ┆ NaN       ┆ NaN       ┆ NaN       │\n",
       "│ 669208 ┆ 6.388012   ┆ 77.640917  ┆ 70.051808 ┆ … ┆ NaN       ┆ NaN       ┆ NaN       ┆ NaN       │\n",
       "│ 675961 ┆ 2.669233   ┆ 76.7079    ┆ 69.85951  ┆ … ┆ NaN       ┆ NaN       ┆ NaN       ┆ NaN       │\n",
       "└────────┴────────────┴────────────┴───────────┴───┴───────────┴───────────┴───────────┴───────────┘"
      ]
     },
     "execution_count": 7,
     "metadata": {},
     "output_type": "execute_result"
    }
   ],
   "source": [
    "batter_profile_df = df.filter(pl.col(\"swing_event\")).group_by(\"batter\").agg([\n",
    "  pl.col(\"bat_speed\").min().alias(\"bat_speed_min\"),\n",
    "  pl.col(\"bat_speed\").max().alias(\"bat_speed_max\"),\n",
    "  pl.col(\"bat_speed\").median().alias(\"bat_speed_median\"),\n",
    "  pl.col(\"swing_length\").min().alias(\"swing_length_min\"),\n",
    "  pl.col(\"swing_length\").max().alias(\"swing_length_max\"),\n",
    "  pl.col(\"swing_length\").median().alias(\"swing_length_median\"),\n",
    "  pl.len().alias(\"swing_count\"),\n",
    "  ((pl.col(\"description\").eq(\"hit_into_play\").sum() / pl.len()) * 100).alias(\"hit_into_play_percentage\"),\n",
    "  *[((pl.col(\"description\").eq(\"hit_into_play\") & (pl.col(\"pitch_type\").eq(pitch))).sum() * 100 /\n",
    "      pl.col(\"pitch_type\").eq(pitch).sum()).alias(f\"hit_into_play_for_{pitch}\")\n",
    "    for pitch in df[\"pitch_type\"].unique()]\n",
    "]).filter(pl.col(\"swing_count\") > 30)\n",
    "batter_profile_df"
   ]
  },
  {
   "cell_type": "markdown",
   "metadata": {},
   "source": [
    "### Is there an optimal swing speed to hit a ball into play?"
   ]
  },
  {
   "cell_type": "markdown",
   "metadata": {},
   "source": [
    "#### There does appear to be a correlation between a batter's swing speed and the probability that they will hit a ball into play."
   ]
  },
  {
   "cell_type": "code",
   "execution_count": 13,
   "metadata": {},
   "outputs": [],
   "source": [
    "Visualizations(df).bat_speed_to_hit_into_play_percentage(\"visualizations/bat_speed\")"
   ]
  },
  {
   "cell_type": "markdown",
   "metadata": {},
   "source": [
    "### Is the an optimal swing length to hit a ball into play?"
   ]
  },
  {
   "cell_type": "markdown",
   "metadata": {},
   "source": [
    "#### There is a very clear sweet spot."
   ]
  },
  {
   "cell_type": "code",
   "execution_count": 14,
   "metadata": {},
   "outputs": [],
   "source": [
    "Visualizations(df).swing_length_to_hit_into_play_percentage(\"visualizations/swing_length\")"
   ]
  },
  {
   "cell_type": "markdown",
   "metadata": {},
   "source": [
    "### Can we predict an outcome based on bat speed and swing length?"
   ]
  },
  {
   "cell_type": "code",
   "execution_count": 4,
   "metadata": {},
   "outputs": [
    {
     "name": "stdout",
     "output_type": "stream",
     "text": [
      "The percentage of swings that result in a hit: 36.56650322183144\n"
     ]
    }
   ],
   "source": [
    "swings = df.filter(pl.col(\"swing_event\"))\n",
    "print(\"The percentage of swings that result in a hit: \" + str(len(swings.filter(pl.col(\"hit_into_play\"))) * 100 / len(swings)))\n",
    "with open(\"outputs/bat_speed_and_swing_length_hit_into_play_predictions.txt\", \"w\") as f:\n",
    "  predictor = Predictions(swings, [\"bat_speed\", \"swing_length\"], \"hit_into_play\", random_seed=0, output=f)\n",
    "  predictor.test_models()"
   ]
  },
  {
   "cell_type": "markdown",
   "metadata": {},
   "source": []
  }
 ],
 "metadata": {
  "kernelspec": {
   "display_name": "venv",
   "language": "python",
   "name": "python3"
  },
  "language_info": {
   "codemirror_mode": {
    "name": "ipython",
    "version": 3
   },
   "file_extension": ".py",
   "mimetype": "text/x-python",
   "name": "python",
   "nbconvert_exporter": "python",
   "pygments_lexer": "ipython3",
   "version": "3.11.6"
  }
 },
 "nbformat": 4,
 "nbformat_minor": 2
}
